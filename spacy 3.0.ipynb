{
 "cells": [
  {
   "cell_type": "code",
   "execution_count": 35,
   "id": "5aafd2fa",
   "metadata": {},
   "outputs": [
    {
     "name": "stdout",
     "output_type": "stream",
     "text": [
      "True\n"
     ]
    }
   ],
   "source": [
    "import json\n",
    "\n",
    "def extract_headlines_and_sarcasm(json_file_path):\n",
    "    with open(json_file_path, 'r') as file:\n",
    "        data = file.readlines()\n",
    "\n",
    "    articles_list = []\n",
    "    for entry in data:\n",
    "        article_data = json.loads(entry)\n",
    "        article = [\n",
    "            article_data[\"headline\"],\n",
    "            article_data[\"is_sarcastic\"]\n",
    "        ]\n",
    "        articles_list.append(article)\n",
    "\n",
    "    return articles_list\n",
    "\n",
    
    "json_file_path = 'Sarcasm_Headlines_Dataset.json'  # Replace with the actual JSON file path\n",
    "articles = extract_headlines_and_sarcasm(json_file_path)\n",
    "\n",
    
    "print(bool(articles))\n"
   ]
  },
  {
   "cell_type": "code",
   "execution_count": 7,
   "id": "c3dadccb",
   "metadata": {},
   "outputs": [
    {
     "name": "stdout",
     "output_type": "stream",
     "text": [
      "26709\n"
     ]
    }
   ],
   "source": [
    "print(len(articles))"
   ]
  },
  {
   "cell_type": "code",
   "execution_count": 8,
   "id": "ced46985",
   "metadata": {
    "scrolled": true
   },
   "outputs": [
    {
     "name": "stdout",
     "output_type": "stream",
     "text": [
      "Epoch 1/10\n",
      "668/668 [==============================] - 10s 12ms/step - loss: 0.4073 - accuracy: 0.8084\n",
      "Epoch 2/10\n",
      "668/668 [==============================] - 5s 7ms/step - loss: 0.2048 - accuracy: 0.9208\n",
      "Epoch 3/10\n",
      "668/668 [==============================] - 5s 7ms/step - loss: 0.1060 - accuracy: 0.9633\n",
      "Epoch 4/10\n",
      "668/668 [==============================] - 5s 7ms/step - loss: 0.0555 - accuracy: 0.9812\n",
      "Epoch 5/10\n",
      "668/668 [==============================] - 5s 7ms/step - loss: 0.0394 - accuracy: 0.9862\n",
      "Epoch 6/10\n",
      "668/668 [==============================] - 5s 7ms/step - loss: 0.0265 - accuracy: 0.9910\n",
      "Epoch 7/10\n",
      "668/668 [==============================] - 5s 7ms/step - loss: 0.0176 - accuracy: 0.9937\n",
      "Epoch 8/10\n",
      "668/668 [==============================] - 5s 8ms/step - loss: 0.0164 - accuracy: 0.9946\n",
      "Epoch 9/10\n",
      "668/668 [==============================] - 5s 8ms/step - loss: 0.0135 - accuracy: 0.9956\n",
      "Epoch 10/10\n",
      "668/668 [==============================] - 5s 7ms/step - loss: 0.0112 - accuracy: 0.9966\n",
      "167/167 [==============================] - 1s 4ms/step - loss: 1.0488 - accuracy: 0.8293\n",
      "Test accuracy: 0.8293\n"
     ]
    }
   ],
   "source": [
    "import spacy\n",
    "import numpy as np\n",
    "import tensorflow as tf\n",
    "from sklearn.metrics import classification_report\n",
    "from sklearn.model_selection import train_test_split\n",
    "from sklearn.preprocessing import LabelEncoder\n",
    "\n",
    "# Load the English model from spaCy\n",
    "nlp = spacy.load(\"en_core_web_trf\")\n",
    "\n",
    "# Sample dataset\n",
    "data = articles  # Sarcastic\n",
    "\n",
    "# Separate text and labels\n",
    "texts, labels = zip(*data)\n",
    "\n",
    "# Preprocess and tokenize text using spaCy\n",
    "tokenized_texts = [\" \".join([token.lemma_ for token in nlp(text)]) for text in texts]\n",
    "\n",
    "# Convert labels to numerical values\n",
    "label_encoder = LabelEncoder()\n",
    "encoded_labels = label_encoder.fit_transform(labels)\n",
    "\n",
    "# Split data into train and test sets\n",
    "X_train, X_test, y_train, y_test = train_test_split(tokenized_texts, encoded_labels, test_size=0.2, random_state=42)\n",
    "\n",
    
    "tokenizer = tf.keras.preprocessing.text.Tokenizer()\n",
    "tokenizer.fit_on_texts(X_train)\n",
    "X_train_sequences = tokenizer.texts_to_sequences(X_train)\n",
    "X_test_sequences = tokenizer.texts_to_sequences(X_test)\n",
    "\n",
   
    "max_sequence_length = max(max(map(len, X_train_sequences)), max(map(len, X_test_sequences)))\n",
    "X_train_padded = tf.keras.preprocessing.sequence.pad_sequences(X_train_sequences, maxlen=max_sequence_length)\n",
    "X_test_padded = tf.keras.preprocessing.sequence.pad_sequences(X_test_sequences, maxlen=max_sequence_length)\n",
    "\n",
  
    "model = tf.keras.Sequential([\n",
    "    tf.keras.layers.Embedding(input_dim=len(tokenizer.word_index) + 1, output_dim=100, input_length=max_sequence_length),\n",
    "    tf.keras.layers.LSTM(64),\n",
    "    tf.keras.layers.Dense(1, activation='sigmoid')\n",
    "])\n",
    "\n",
    
    "model.compile(optimizer='adam', loss='binary_crossentropy', metrics=['accuracy'])\n",
    "\n",
    
    "train_dataset = tf.data.Dataset.from_tensor_slices((X_train_padded, y_train))\n",
    "train_dataset = train_dataset.batch(32)\n",
    "\n",
    "# Train the model\n",
    "model.fit(train_dataset, epochs=10)\n",
    "\n",
    "# Evaluate the model\n",
    "test_loss, test_accuracy = model.evaluate(X_test_padded, y_test)\n",
    "print(f\"Test accuracy: {test_accuracy:.4f}\")\n"
   ]
  },
  {
   "cell_type": "code",
   "execution_count": 29,
   "id": "cdefb094",
   "metadata": {},
   "outputs": [
    {
     "name": "stderr",
     "output_type": "stream",
     "text": [
      "WARNING:absl:Found untraced functions such as lstm_cell_2_layer_call_fn, lstm_cell_2_layer_call_and_return_conditional_losses while saving (showing 2 of 2). These functions will not be directly callable after loading.\n"
     ]
    },
    {
     "name": "stdout",
     "output_type": "stream",
     "text": [
      "INFO:tensorflow:Assets written to: sarcastic_model\\assets\n"
     ]
    },
    {
     "name": "stderr",
     "output_type": "stream",
     "text": [
      "INFO:tensorflow:Assets written to: sarcastic_model\\assets\n"
     ]
    }
   ],
   "source": [
    "model.save(\"sarcastic_model\")"
   ]
  },
  {
   "cell_type": "code",
   "execution_count": 30,
   "id": "8417bc5b",
   "metadata": {},
   "outputs": [
    {
     "data": {
      "text/plain": [
       "<keras.engine.sequential.Sequential at 0x138bba6a890>"
      ]
     },
     "execution_count": 30,
     "metadata": {},
     "output_type": "execute_result"
    }
   ],
   "source": [
    "tf.keras.models.load_model(\"sarcastic_model\")"
   ]
  },
  {
   "cell_type": "code",
   "execution_count": 41,
   "id": "87b4a703",
   "metadata": {},
   "outputs": [
    {
     "name": "stdout",
     "output_type": "stream",
     "text": [
      "1/1 [==============================] - 0s 18ms/step\n",
      "[[0.9999771]] sarcastic\n"
     ]
    }
   ],
   "source": [
    "new_text = \"Cow does not give milk human does - Tarek\"\n",
    "new_text_tokens = [\" \".join([token.lemma_ for token in nlp(new_text)])]\n",
    "new_text_sequences = tokenizer.texts_to_sequences(new_text_tokens)\n",
    "new_text_padded = tf.keras.preprocessing.sequence.pad_sequences(new_text_sequences, maxlen=max_sequence_length)\n",
    "predictions = model.predict(new_text_padded)\n",
    "predicted_label = \"sarcastic\" if predictions > 0.5 else \"non-sarcastic\"\n",
    "print(predictions,predicted_label)"
   ]
  }
 ],
 "metadata": {
  "kernelspec": {
   "display_name": "Python 3 (ipykernel)",
   "language": "python",
   "name": "python3"
  },
  "language_info": {
   "codemirror_mode": {
    "name": "ipython",
    "version": 3
   },
   "file_extension": ".py",
   "mimetype": "text/x-python",
   "name": "python",
   "nbconvert_exporter": "python",
   "pygments_lexer": "ipython3",
   "version": "3.10.12"
  }
 },
 "nbformat": 4,
 "nbformat_minor": 5
}
